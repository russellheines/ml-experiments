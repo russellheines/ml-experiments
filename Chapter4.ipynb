{
  "nbformat": 4,
  "nbformat_minor": 0,
  "metadata": {
    "colab": {
      "provenance": [],
      "authorship_tag": "ABX9TyOI/GIV75oMggTioDlrdICH",
      "include_colab_link": true
    },
    "kernelspec": {
      "name": "python3",
      "display_name": "Python 3"
    },
    "language_info": {
      "name": "python"
    }
  },
  "cells": [
    {
      "cell_type": "markdown",
      "metadata": {
        "id": "view-in-github",
        "colab_type": "text"
      },
      "source": [
        "<a href=\"https://colab.research.google.com/github/russellheines/ml-experiments/blob/main/Chapter4.ipynb\" target=\"_parent\"><img src=\"https://colab.research.google.com/assets/colab-badge.svg\" alt=\"Open In Colab\"/></a>"
      ]
    },
    {
      "cell_type": "code",
      "execution_count": 1,
      "metadata": {
        "colab": {
          "base_uri": "https://localhost:8080/"
        },
        "id": "qxEqXtcbn3FE",
        "outputId": "124db92d-c5e4-41ed-c433-d270106edec8"
      },
      "outputs": [
        {
          "output_type": "stream",
          "name": "stdout",
          "text": [
            "Downloading data from https://storage.googleapis.com/tensorflow/tf-keras-datasets/imdb.npz\n",
            "17464789/17464789 [==============================] - 0s 0us/step\n"
          ]
        }
      ],
      "source": [
        "from keras.datasets import imdb\n",
        "\n",
        "(train_data, train_labels), (test_data, test_labels) = imdb.load_data(num_words=10000)"
      ]
    },
    {
      "cell_type": "code",
      "source": [
        "import numpy as np\n",
        "\n",
        "def vectorize_sequences(sequences, dimension=10000):\n",
        "  results = np.zeros((len(sequences), dimension))\n",
        "  for i, sequence in enumerate(sequences):\n",
        "    results[i, sequence] = 1.\n",
        "  return results\n",
        "\n",
        "x_train = vectorize_sequences(train_data)\n",
        "x_test = vectorize_sequences(test_data)"
      ],
      "metadata": {
        "id": "ODeVcBSPoA_H"
      },
      "execution_count": 2,
      "outputs": []
    },
    {
      "cell_type": "code",
      "source": [
        "y_train = np.asarray(train_labels).astype('float32')\n",
        "y_test = np.asarray(test_labels).astype('float32')"
      ],
      "metadata": {
        "id": "Y2baNYXeoKAI"
      },
      "execution_count": 3,
      "outputs": []
    },
    {
      "cell_type": "code",
      "source": [
        "x_val = x_train[:10000]\n",
        "partial_x_train = x_train[10000:]\n",
        "y_val = y_train[:10000]\n",
        "partial_y_train = y_train[10000:]"
      ],
      "metadata": {
        "id": "K7hZe8yPocvf"
      },
      "execution_count": 4,
      "outputs": []
    },
    {
      "cell_type": "code",
      "source": [
        "from keras import models\n",
        "from keras import layers\n",
        "\n",
        "model = models.Sequential()\n",
        "model.add(layers.Dense(16, activation='relu', input_shape=(10000,)))\n",
        "model.add(layers.Dense(16, activation='relu'))\n",
        "model.add(layers.Dense(1, activation='sigmoid'))\n",
        "\n",
        "model.compile(optimizer='rmsprop',\n",
        "              loss='binary_crossentropy',\n",
        "              metrics=['acc'])\n",
        "\n",
        "history = model.fit(partial_x_train,\n",
        "                    partial_y_train,\n",
        "                    epochs=20,\n",
        "                    batch_size=512,\n",
        "                    validation_data=(x_val, y_val))\n",
        "\n",
        "original_val_loss_values = history.history['val_loss']"
      ],
      "metadata": {
        "colab": {
          "base_uri": "https://localhost:8080/"
        },
        "id": "EGQ74VHjpCBF",
        "outputId": "c248c547-3912-4b25-804b-5f9bc82c7fdb"
      },
      "execution_count": 5,
      "outputs": [
        {
          "output_type": "stream",
          "name": "stdout",
          "text": [
            "Epoch 1/20\n",
            "30/30 [==============================] - 3s 69ms/step - loss: 0.5402 - acc: 0.7729 - val_loss: 0.4218 - val_acc: 0.8617\n",
            "Epoch 2/20\n",
            "30/30 [==============================] - 1s 34ms/step - loss: 0.3439 - acc: 0.8907 - val_loss: 0.3275 - val_acc: 0.8826\n",
            "Epoch 3/20\n",
            "30/30 [==============================] - 1s 34ms/step - loss: 0.2583 - acc: 0.9162 - val_loss: 0.2928 - val_acc: 0.8875\n",
            "Epoch 4/20\n",
            "30/30 [==============================] - 1s 34ms/step - loss: 0.2107 - acc: 0.9303 - val_loss: 0.2783 - val_acc: 0.8889\n",
            "Epoch 5/20\n",
            "30/30 [==============================] - 1s 32ms/step - loss: 0.1756 - acc: 0.9425 - val_loss: 0.2936 - val_acc: 0.8829\n",
            "Epoch 6/20\n",
            "30/30 [==============================] - 1s 32ms/step - loss: 0.1505 - acc: 0.9520 - val_loss: 0.3177 - val_acc: 0.8729\n",
            "Epoch 7/20\n",
            "30/30 [==============================] - 1s 33ms/step - loss: 0.1291 - acc: 0.9592 - val_loss: 0.2941 - val_acc: 0.8815\n",
            "Epoch 8/20\n",
            "30/30 [==============================] - 1s 45ms/step - loss: 0.1103 - acc: 0.9668 - val_loss: 0.3004 - val_acc: 0.8839\n",
            "Epoch 9/20\n",
            "30/30 [==============================] - 2s 53ms/step - loss: 0.0998 - acc: 0.9704 - val_loss: 0.3131 - val_acc: 0.8824\n",
            "Epoch 10/20\n",
            "30/30 [==============================] - 1s 47ms/step - loss: 0.0868 - acc: 0.9751 - val_loss: 0.3286 - val_acc: 0.8802\n",
            "Epoch 11/20\n",
            "30/30 [==============================] - 1s 34ms/step - loss: 0.0734 - acc: 0.9805 - val_loss: 0.3735 - val_acc: 0.8676\n",
            "Epoch 12/20\n",
            "30/30 [==============================] - 1s 33ms/step - loss: 0.0655 - acc: 0.9830 - val_loss: 0.3596 - val_acc: 0.8772\n",
            "Epoch 13/20\n",
            "30/30 [==============================] - 1s 32ms/step - loss: 0.0564 - acc: 0.9873 - val_loss: 0.4005 - val_acc: 0.8700\n",
            "Epoch 14/20\n",
            "30/30 [==============================] - 1s 31ms/step - loss: 0.0471 - acc: 0.9898 - val_loss: 0.4496 - val_acc: 0.8668\n",
            "Epoch 15/20\n",
            "30/30 [==============================] - 1s 33ms/step - loss: 0.0452 - acc: 0.9899 - val_loss: 0.4155 - val_acc: 0.8766\n",
            "Epoch 16/20\n",
            "30/30 [==============================] - 1s 34ms/step - loss: 0.0365 - acc: 0.9930 - val_loss: 0.4368 - val_acc: 0.8751\n",
            "Epoch 17/20\n",
            "30/30 [==============================] - 1s 33ms/step - loss: 0.0294 - acc: 0.9958 - val_loss: 0.4621 - val_acc: 0.8722\n",
            "Epoch 18/20\n",
            "30/30 [==============================] - 1s 35ms/step - loss: 0.0261 - acc: 0.9967 - val_loss: 0.5306 - val_acc: 0.8605\n",
            "Epoch 19/20\n",
            "30/30 [==============================] - 1s 34ms/step - loss: 0.0222 - acc: 0.9964 - val_loss: 0.5011 - val_acc: 0.8725\n",
            "Epoch 20/20\n",
            "30/30 [==============================] - 1s 33ms/step - loss: 0.0199 - acc: 0.9967 - val_loss: 0.5250 - val_acc: 0.8714\n"
          ]
        }
      ]
    },
    {
      "cell_type": "code",
      "source": [
        "from keras import models\n",
        "from keras import layers\n",
        "\n",
        "model = models.Sequential()\n",
        "model.add(layers.Dense(4, activation='relu', input_shape=(10000,)))\n",
        "model.add(layers.Dense(4, activation='relu'))\n",
        "model.add(layers.Dense(1, activation='sigmoid'))\n",
        "\n",
        "model.compile(optimizer='rmsprop',\n",
        "              loss='binary_crossentropy',\n",
        "              metrics=['acc'])\n",
        "\n",
        "history = model.fit(partial_x_train,\n",
        "                    partial_y_train,\n",
        "                    epochs=20,\n",
        "                    batch_size=512,\n",
        "                    validation_data=(x_val, y_val))\n",
        "\n",
        "smaller_val_loss_values = history.history['val_loss']"
      ],
      "metadata": {
        "colab": {
          "base_uri": "https://localhost:8080/"
        },
        "id": "HBGlt2nBsW7G",
        "outputId": "44fa0027-d00e-4189-daee-1b5991132262"
      },
      "execution_count": 6,
      "outputs": [
        {
          "output_type": "stream",
          "name": "stdout",
          "text": [
            "Epoch 1/20\n",
            "30/30 [==============================] - 2s 64ms/step - loss: 0.6092 - acc: 0.7024 - val_loss: 0.5276 - val_acc: 0.8512\n",
            "Epoch 2/20\n",
            "30/30 [==============================] - 1s 31ms/step - loss: 0.4555 - acc: 0.8681 - val_loss: 0.4226 - val_acc: 0.8730\n",
            "Epoch 3/20\n",
            "30/30 [==============================] - 1s 47ms/step - loss: 0.3567 - acc: 0.9016 - val_loss: 0.3583 - val_acc: 0.8778\n",
            "Epoch 4/20\n",
            "30/30 [==============================] - 1s 43ms/step - loss: 0.2890 - acc: 0.9193 - val_loss: 0.3206 - val_acc: 0.8837\n",
            "Epoch 5/20\n",
            "30/30 [==============================] - 2s 54ms/step - loss: 0.2435 - acc: 0.9291 - val_loss: 0.2993 - val_acc: 0.8856\n",
            "Epoch 6/20\n",
            "30/30 [==============================] - 1s 30ms/step - loss: 0.2089 - acc: 0.9392 - val_loss: 0.2848 - val_acc: 0.8880\n",
            "Epoch 7/20\n",
            "30/30 [==============================] - 1s 32ms/step - loss: 0.1834 - acc: 0.9461 - val_loss: 0.2763 - val_acc: 0.8894\n",
            "Epoch 8/20\n",
            "30/30 [==============================] - 1s 31ms/step - loss: 0.1621 - acc: 0.9521 - val_loss: 0.2802 - val_acc: 0.8846\n",
            "Epoch 9/20\n",
            "30/30 [==============================] - 1s 29ms/step - loss: 0.1452 - acc: 0.9581 - val_loss: 0.2813 - val_acc: 0.8867\n",
            "Epoch 10/20\n",
            "30/30 [==============================] - 1s 32ms/step - loss: 0.1307 - acc: 0.9633 - val_loss: 0.2894 - val_acc: 0.8827\n",
            "Epoch 11/20\n",
            "30/30 [==============================] - 1s 31ms/step - loss: 0.1182 - acc: 0.9669 - val_loss: 0.2963 - val_acc: 0.8806\n",
            "Epoch 12/20\n",
            "30/30 [==============================] - 1s 31ms/step - loss: 0.1063 - acc: 0.9718 - val_loss: 0.2941 - val_acc: 0.8864\n",
            "Epoch 13/20\n",
            "30/30 [==============================] - 1s 29ms/step - loss: 0.0961 - acc: 0.9755 - val_loss: 0.3015 - val_acc: 0.8847\n",
            "Epoch 14/20\n",
            "30/30 [==============================] - 1s 30ms/step - loss: 0.0865 - acc: 0.9780 - val_loss: 0.3121 - val_acc: 0.8836\n",
            "Epoch 15/20\n",
            "30/30 [==============================] - 1s 33ms/step - loss: 0.0777 - acc: 0.9812 - val_loss: 0.3274 - val_acc: 0.8819\n",
            "Epoch 16/20\n",
            "30/30 [==============================] - 1s 46ms/step - loss: 0.0695 - acc: 0.9841 - val_loss: 0.3360 - val_acc: 0.8827\n",
            "Epoch 17/20\n",
            "30/30 [==============================] - 2s 52ms/step - loss: 0.0632 - acc: 0.9865 - val_loss: 0.3477 - val_acc: 0.8806\n",
            "Epoch 18/20\n",
            "30/30 [==============================] - 1s 42ms/step - loss: 0.0564 - acc: 0.9882 - val_loss: 0.3632 - val_acc: 0.8786\n",
            "Epoch 19/20\n",
            "30/30 [==============================] - 1s 33ms/step - loss: 0.0505 - acc: 0.9897 - val_loss: 0.3759 - val_acc: 0.8797\n",
            "Epoch 20/20\n",
            "30/30 [==============================] - 1s 30ms/step - loss: 0.0442 - acc: 0.9919 - val_loss: 0.3950 - val_acc: 0.8762\n"
          ]
        }
      ]
    },
    {
      "cell_type": "code",
      "source": [
        "import matplotlib.pyplot as plt\n",
        "\n",
        "plt.plot(range(1, 21), original_val_loss_values, 'b+', label='Original model')\n",
        "plt.plot(range(1, 21), smaller_val_loss_values, 'bo', label='Smaller model')\n",
        "plt.title('Original and smaller model')\n",
        "plt.xlabel('Epochs')\n",
        "plt.ylabel('Validation loss')\n",
        "plt.legend()\n",
        "\n",
        "plt.show()"
      ],
      "metadata": {
        "colab": {
          "base_uri": "https://localhost:8080/",
          "height": 472
        },
        "id": "CzdVdlBopZdu",
        "outputId": "c1c752cd-19eb-4832-df92-83a5e1296a67"
      },
      "execution_count": 7,
      "outputs": [
        {
          "output_type": "display_data",
          "data": {
            "text/plain": [
              "<Figure size 640x480 with 1 Axes>"
            ],
            "image/png": "[encoded data removed]"
          },
          "metadata": {}
        }
      ]
    },
    {
      "cell_type": "code",
      "source": [
        "from keras import models\n",
        "from keras import layers\n",
        "from keras import regularizers\n",
        "\n",
        "model = models.Sequential()\n",
        "model.add(layers.Dense(16, kernel_regularizer=regularizers.l2(0.001),\n",
        "                       activation='relu', input_shape=(10000,)))\n",
        "model.add(layers.Dense(16, kernel_regularizer=regularizers.l2(0.001),\n",
        "                       activation='relu'))\n",
        "model.add(layers.Dense(1, activation='sigmoid'))\n",
        "\n",
        "model.compile(optimizer='rmsprop',\n",
        "              loss='binary_crossentropy',\n",
        "              metrics=['acc'])\n",
        "\n",
        "history = model.fit(partial_x_train,\n",
        "                    partial_y_train,\n",
        "                    epochs=20,\n",
        "                    batch_size=512,\n",
        "                    validation_data=(x_val, y_val))\n",
        "\n",
        "regularized_val_loss_values = history.history['val_loss']"
      ],
      "metadata": {
        "id": "YAWMSDd0p1sN",
        "colab": {
          "base_uri": "https://localhost:8080/"
        },
        "outputId": "0308c76c-0e15-4e3d-bb47-4c7829154e8f"
      },
      "execution_count": 8,
      "outputs": [
        {
          "output_type": "stream",
          "name": "stdout",
          "text": [
            "Epoch 1/20\n",
            "30/30 [==============================] - 4s 99ms/step - loss: 0.5818 - acc: 0.7644 - val_loss: 0.4492 - val_acc: 0.8665\n",
            "Epoch 2/20\n",
            "30/30 [==============================] - 1s 46ms/step - loss: 0.3805 - acc: 0.8912 - val_loss: 0.3666 - val_acc: 0.8843\n",
            "Epoch 3/20\n",
            "30/30 [==============================] - 1s 35ms/step - loss: 0.3028 - acc: 0.9153 - val_loss: 0.3802 - val_acc: 0.8614\n",
            "Epoch 4/20\n",
            "30/30 [==============================] - 1s 45ms/step - loss: 0.2641 - acc: 0.9285 - val_loss: 0.3551 - val_acc: 0.8757\n",
            "Epoch 5/20\n",
            "30/30 [==============================] - 1s 35ms/step - loss: 0.2372 - acc: 0.9385 - val_loss: 0.3378 - val_acc: 0.8829\n",
            "Epoch 6/20\n",
            "30/30 [==============================] - 1s 47ms/step - loss: 0.2177 - acc: 0.9449 - val_loss: 0.3423 - val_acc: 0.8847\n",
            "Epoch 7/20\n",
            "30/30 [==============================] - 2s 52ms/step - loss: 0.2059 - acc: 0.9525 - val_loss: 0.3753 - val_acc: 0.8754\n",
            "Epoch 8/20\n",
            "30/30 [==============================] - 2s 57ms/step - loss: 0.1964 - acc: 0.9546 - val_loss: 0.3636 - val_acc: 0.8811\n",
            "Epoch 9/20\n",
            "30/30 [==============================] - 1s 35ms/step - loss: 0.1869 - acc: 0.9603 - val_loss: 0.3691 - val_acc: 0.8816\n",
            "Epoch 10/20\n",
            "30/30 [==============================] - 1s 34ms/step - loss: 0.1771 - acc: 0.9649 - val_loss: 0.3671 - val_acc: 0.8815\n",
            "Epoch 11/20\n",
            "30/30 [==============================] - 1s 36ms/step - loss: 0.1746 - acc: 0.9653 - val_loss: 0.3934 - val_acc: 0.8749\n",
            "Epoch 12/20\n",
            "30/30 [==============================] - 1s 34ms/step - loss: 0.1719 - acc: 0.9654 - val_loss: 0.3869 - val_acc: 0.8763\n",
            "Epoch 13/20\n",
            "30/30 [==============================] - 1s 33ms/step - loss: 0.1595 - acc: 0.9715 - val_loss: 0.3958 - val_acc: 0.8791\n",
            "Epoch 14/20\n",
            "30/30 [==============================] - 1s 34ms/step - loss: 0.1634 - acc: 0.9689 - val_loss: 0.3991 - val_acc: 0.8784\n",
            "Epoch 15/20\n",
            "30/30 [==============================] - 1s 34ms/step - loss: 0.1535 - acc: 0.9744 - val_loss: 0.4565 - val_acc: 0.8620\n",
            "Epoch 16/20\n",
            "30/30 [==============================] - 1s 35ms/step - loss: 0.1533 - acc: 0.9732 - val_loss: 0.4579 - val_acc: 0.8619\n",
            "Epoch 17/20\n",
            "30/30 [==============================] - 1s 35ms/step - loss: 0.1539 - acc: 0.9721 - val_loss: 0.4286 - val_acc: 0.8742\n",
            "Epoch 18/20\n",
            "30/30 [==============================] - 1s 49ms/step - loss: 0.1425 - acc: 0.9798 - val_loss: 0.4293 - val_acc: 0.8747\n",
            "Epoch 19/20\n",
            "30/30 [==============================] - 2s 57ms/step - loss: 0.1472 - acc: 0.9737 - val_loss: 0.4687 - val_acc: 0.8654\n",
            "Epoch 20/20\n",
            "30/30 [==============================] - 1s 39ms/step - loss: 0.1390 - acc: 0.9798 - val_loss: 0.4645 - val_acc: 0.8686\n"
          ]
        }
      ]
    },
    {
      "cell_type": "code",
      "source": [
        "import matplotlib.pyplot as plt\n",
        "\n",
        "plt.plot(range(1, 21), original_val_loss_values, 'b+', label='Original model')\n",
        "plt.plot(range(1, 21), regularized_val_loss_values, 'bo', label='L2-regularized model')\n",
        "plt.title('Original and regularized model')\n",
        "plt.xlabel('Epochs')\n",
        "plt.ylabel('Validation loss')\n",
        "plt.legend()\n",
        "\n",
        "plt.show()"
      ],
      "metadata": {
        "id": "GijQNW0wwd-M",
        "outputId": "6e0db56a-82ea-4930-8ab1-0b7cb0e8033a",
        "colab": {
          "base_uri": "https://localhost:8080/",
          "height": 472
        }
      },
      "execution_count": 9,
      "outputs": [
        {
          "output_type": "display_data",
          "data": {
            "text/plain": [
              "<Figure size 640x480 with 1 Axes>"
            ],
            "image/png": "[encoded data removed]"
          },
          "metadata": {}
        }
      ]
    },
    {
      "cell_type": "code",
      "source": [],
      "metadata": {
        "id": "3k6UH5Rywt8Q"
      },
      "execution_count": null,
      "outputs": []
    }
  ]
}