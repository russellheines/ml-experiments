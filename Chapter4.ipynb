{
  "nbformat": 4,
  "nbformat_minor": 0,
  "metadata": {
    "colab": {
      "provenance": [],
      "authorship_tag": "ABX9TyP9NusfcPSCxYvQfnPtVW5E",
      "include_colab_link": true
    },
    "kernelspec": {
      "name": "python3",
      "display_name": "Python 3"
    },
    "language_info": {
      "name": "python"
    }
  },
  "cells": [
    {
      "cell_type": "markdown",
      "metadata": {
        "id": "view-in-github",
        "colab_type": "text"
      },
      "source": [
        "<a href=\"https://colab.research.google.com/github/russellheines/ml-experiments/blob/main/Chapter4.ipynb\" target=\"_parent\"><img src=\"https://colab.research.google.com/assets/colab-badge.svg\" alt=\"Open In Colab\"/></a>"
      ]
    },
    {
      "cell_type": "code",
      "execution_count": null,
      "metadata": {
        "colab": {
          "base_uri": "https://localhost:8080/"
        },
        "id": "qxEqXtcbn3FE",
        "outputId": "3a23756c-7f49-42a2-f386-ca0026bb0864"
      },
      "outputs": [
        {
          "output_type": "stream",
          "name": "stdout",
          "text": [
            "Downloading data from https://storage.googleapis.com/tensorflow/tf-keras-datasets/imdb.npz\n",
            "17464789/17464789 [==============================] - 0s 0us/step\n"
          ]
        }
      ],
      "source": [
        "from keras.datasets import imdb\n",
        "\n",
        "(train_data, train_labels), (test_data, test_labels) = imdb.load_data(num_words=10000)"
      ]
    },
    {
      "cell_type": "code",
      "source": [
        "import numpy as np\n",
        "\n",
        "def vectorize_sequences(sequences, dimension=10000):\n",
        "  results = np.zeros((len(sequences), dimension))\n",
        "  for i, sequence in enumerate(sequences):\n",
        "    results[i, sequence] = 1.\n",
        "  return results\n",
        "\n",
        "x_train = vectorize_sequences(train_data)\n",
        "x_test = vectorize_sequences(test_data)"
      ],
      "metadata": {
        "id": "ODeVcBSPoA_H"
      },
      "execution_count": null,
      "outputs": []
    },
    {
      "cell_type": "code",
      "source": [
        "y_train = np.asarray(train_labels).astype('float32')\n",
        "y_test = np.asarray(test_labels).astype('float32')"
      ],
      "metadata": {
        "id": "Y2baNYXeoKAI"
      },
      "execution_count": null,
      "outputs": []
    },
    {
      "cell_type": "code",
      "source": [
        "x_val = x_train[:10000]\n",
        "partial_x_train = x_train[10000:]\n",
        "y_val = y_train[:10000]\n",
        "partial_y_train = y_train[10000:]"
      ],
      "metadata": {
        "id": "K7hZe8yPocvf"
      },
      "execution_count": null,
      "outputs": []
    },
    {
      "cell_type": "code",
      "source": [
        "from keras import models\n",
        "from keras import layers\n",
        "\n",
        "model = models.Sequential()\n",
        "model.add(layers.Dense(16, activation='relu', input_shape=(10000,)))\n",
        "model.add(layers.Dense(16, activation='relu'))\n",
        "model.add(layers.Dense(1, activation='sigmoid'))\n",
        "\n",
        "model.compile(optimizer='rmsprop',\n",
        "              loss='binary_crossentropy',\n",
        "              metrics=['acc'])\n",
        "\n",
        "history = model.fit(partial_x_train,\n",
        "                    partial_y_train,\n",
        "                    epochs=20,\n",
        "                    batch_size=512,\n",
        "                    validation_data=(x_val, y_val))\n",
        "\n",
        "original_val_loss_values = history.history['val_loss']"
      ],
      "metadata": {
        "colab": {
          "base_uri": "https://localhost:8080/"
        },
        "id": "EGQ74VHjpCBF",
        "outputId": "fa77eeb6-ae63-4b20-97e5-932d918c0233"
      },
      "execution_count": null,
      "outputs": [
        {
          "output_type": "stream",
          "name": "stdout",
          "text": [
            "Epoch 1/20\n",
            "30/30 [==============================] - 3s 86ms/step - loss: 0.5159 - acc: 0.7870 - val_loss: 0.3954 - val_acc: 0.8636\n",
            "Epoch 2/20\n",
            "30/30 [==============================] - 2s 65ms/step - loss: 0.3189 - acc: 0.8969 - val_loss: 0.3311 - val_acc: 0.8718\n",
            "Epoch 3/20\n",
            "30/30 [==============================] - 1s 38ms/step - loss: 0.2417 - acc: 0.9209 - val_loss: 0.2933 - val_acc: 0.8832\n",
            "Epoch 4/20\n",
            "30/30 [==============================] - 2s 54ms/step - loss: 0.1976 - acc: 0.9334 - val_loss: 0.2751 - val_acc: 0.8894\n",
            "Epoch 5/20\n",
            "30/30 [==============================] - 2s 81ms/step - loss: 0.1667 - acc: 0.9454 - val_loss: 0.2964 - val_acc: 0.8829\n",
            "Epoch 6/20\n",
            "30/30 [==============================] - 2s 57ms/step - loss: 0.1389 - acc: 0.9570 - val_loss: 0.3387 - val_acc: 0.8693\n",
            "Epoch 7/20\n",
            "30/30 [==============================] - 1s 42ms/step - loss: 0.1224 - acc: 0.9611 - val_loss: 0.2920 - val_acc: 0.8856\n",
            "Epoch 8/20\n",
            "30/30 [==============================] - 1s 35ms/step - loss: 0.1030 - acc: 0.9697 - val_loss: 0.3102 - val_acc: 0.8829\n",
            "Epoch 9/20\n",
            "30/30 [==============================] - 1s 32ms/step - loss: 0.0896 - acc: 0.9741 - val_loss: 0.3221 - val_acc: 0.8807\n",
            "Epoch 10/20\n",
            "30/30 [==============================] - 1s 32ms/step - loss: 0.0761 - acc: 0.9802 - val_loss: 0.3410 - val_acc: 0.8812\n",
            "Epoch 11/20\n",
            "30/30 [==============================] - 1s 32ms/step - loss: 0.0628 - acc: 0.9853 - val_loss: 0.3607 - val_acc: 0.8791\n",
            "Epoch 12/20\n",
            "30/30 [==============================] - 1s 34ms/step - loss: 0.0563 - acc: 0.9885 - val_loss: 0.3737 - val_acc: 0.8789\n",
            "Epoch 13/20\n",
            "30/30 [==============================] - 1s 31ms/step - loss: 0.0466 - acc: 0.9898 - val_loss: 0.3941 - val_acc: 0.8774\n",
            "Epoch 14/20\n",
            "30/30 [==============================] - 1s 34ms/step - loss: 0.0374 - acc: 0.9933 - val_loss: 0.4749 - val_acc: 0.8594\n",
            "Epoch 15/20\n",
            "30/30 [==============================] - 2s 64ms/step - loss: 0.0333 - acc: 0.9937 - val_loss: 0.4685 - val_acc: 0.8650\n",
            "Epoch 16/20\n",
            "30/30 [==============================] - 2s 66ms/step - loss: 0.0271 - acc: 0.9954 - val_loss: 0.4753 - val_acc: 0.8737\n",
            "Epoch 17/20\n",
            "30/30 [==============================] - 1s 46ms/step - loss: 0.0223 - acc: 0.9972 - val_loss: 0.4885 - val_acc: 0.8726\n",
            "Epoch 18/20\n",
            "30/30 [==============================] - 1s 40ms/step - loss: 0.0198 - acc: 0.9977 - val_loss: 0.5104 - val_acc: 0.8693\n",
            "Epoch 19/20\n",
            "30/30 [==============================] - 1s 36ms/step - loss: 0.0168 - acc: 0.9975 - val_loss: 0.5329 - val_acc: 0.8675\n",
            "Epoch 20/20\n",
            "30/30 [==============================] - 1s 43ms/step - loss: 0.0155 - acc: 0.9973 - val_loss: 0.5485 - val_acc: 0.8720\n"
          ]
        }
      ]
    },
    {
      "cell_type": "code",
      "source": [
        "from keras import models\n",
        "from keras import layers\n",
        "\n",
        "model = models.Sequential()\n",
        "model.add(layers.Dense(4, activation='relu', input_shape=(10000,)))\n",
        "model.add(layers.Dense(4, activation='relu'))\n",
        "model.add(layers.Dense(1, activation='sigmoid'))\n",
        "\n",
        "model.compile(optimizer='rmsprop',\n",
        "              loss='binary_crossentropy',\n",
        "              metrics=['acc'])\n",
        "\n",
        "history = model.fit(partial_x_train,\n",
        "                    partial_y_train,\n",
        "                    epochs=20,\n",
        "                    batch_size=512,\n",
        "                    validation_data=(x_val, y_val))\n",
        "\n",
        "smaller_val_loss_values = history.history['val_loss']"
      ],
      "metadata": {
        "colab": {
          "base_uri": "https://localhost:8080/"
        },
        "id": "HBGlt2nBsW7G",
        "outputId": "8af891c6-c51b-4c56-a7d5-4da6567f73d8"
      },
      "execution_count": null,
      "outputs": [
        {
          "output_type": "stream",
          "name": "stdout",
          "text": [
            "Epoch 1/20\n",
            "30/30 [==============================] - 3s 74ms/step - loss: 0.6220 - acc: 0.6449 - val_loss: 0.5768 - val_acc: 0.6910\n",
            "Epoch 2/20\n",
            "30/30 [==============================] - 1s 48ms/step - loss: 0.5297 - acc: 0.7851 - val_loss: 0.5284 - val_acc: 0.7512\n",
            "Epoch 3/20\n",
            "30/30 [==============================] - 1s 30ms/step - loss: 0.4752 - acc: 0.8503 - val_loss: 0.4965 - val_acc: 0.8679\n",
            "Epoch 4/20\n",
            "30/30 [==============================] - 1s 32ms/step - loss: 0.4392 - acc: 0.8908 - val_loss: 0.4734 - val_acc: 0.8660\n",
            "Epoch 5/20\n",
            "30/30 [==============================] - 1s 39ms/step - loss: 0.4131 - acc: 0.9135 - val_loss: 0.4710 - val_acc: 0.8433\n",
            "Epoch 6/20\n",
            "30/30 [==============================] - 1s 29ms/step - loss: 0.3905 - acc: 0.9291 - val_loss: 0.4779 - val_acc: 0.8315\n",
            "Epoch 7/20\n",
            "30/30 [==============================] - 1s 33ms/step - loss: 0.3711 - acc: 0.9408 - val_loss: 0.4474 - val_acc: 0.8723\n",
            "Epoch 8/20\n",
            "30/30 [==============================] - 1s 39ms/step - loss: 0.3533 - acc: 0.9491 - val_loss: 0.4540 - val_acc: 0.8631\n",
            "Epoch 9/20\n",
            "30/30 [==============================] - 1s 40ms/step - loss: 0.3363 - acc: 0.9589 - val_loss: 0.4337 - val_acc: 0.8782\n",
            "Epoch 10/20\n",
            "30/30 [==============================] - 2s 57ms/step - loss: 0.3202 - acc: 0.9650 - val_loss: 0.4483 - val_acc: 0.8651\n",
            "Epoch 11/20\n",
            "30/30 [==============================] - 2s 61ms/step - loss: 0.3050 - acc: 0.9708 - val_loss: 0.4602 - val_acc: 0.8598\n",
            "Epoch 12/20\n",
            "30/30 [==============================] - 1s 40ms/step - loss: 0.2900 - acc: 0.9750 - val_loss: 0.4632 - val_acc: 0.8584\n",
            "Epoch 13/20\n",
            "30/30 [==============================] - 1s 35ms/step - loss: 0.2711 - acc: 0.9785 - val_loss: 0.4596 - val_acc: 0.8603\n",
            "Epoch 14/20\n",
            "30/30 [==============================] - 1s 38ms/step - loss: 0.2466 - acc: 0.9824 - val_loss: 0.4002 - val_acc: 0.8801\n",
            "Epoch 15/20\n",
            "30/30 [==============================] - 1s 40ms/step - loss: 0.2204 - acc: 0.9842 - val_loss: 0.3857 - val_acc: 0.8797\n",
            "Epoch 16/20\n",
            "30/30 [==============================] - 1s 30ms/step - loss: 0.1873 - acc: 0.9845 - val_loss: 0.3961 - val_acc: 0.8710\n",
            "Epoch 17/20\n",
            "30/30 [==============================] - 1s 39ms/step - loss: 0.1549 - acc: 0.9841 - val_loss: 0.3357 - val_acc: 0.8836\n",
            "Epoch 18/20\n",
            "30/30 [==============================] - 1s 32ms/step - loss: 0.1258 - acc: 0.9837 - val_loss: 0.3630 - val_acc: 0.8789\n",
            "Epoch 19/20\n",
            "30/30 [==============================] - 1s 40ms/step - loss: 0.1020 - acc: 0.9843 - val_loss: 0.3344 - val_acc: 0.8808\n",
            "Epoch 20/20\n",
            "30/30 [==============================] - 2s 52ms/step - loss: 0.0823 - acc: 0.9851 - val_loss: 0.3663 - val_acc: 0.8797\n"
          ]
        }
      ]
    },
    {
      "cell_type": "code",
      "source": [
        "import matplotlib.pyplot as plt\n",
        "\n",
        "plt.plot(range(1, 21), original_val_loss_values, 'b+', label='Original model')\n",
        "plt.plot(range(1, 21), smaller_val_loss_values, 'bo', label='Smaller model')\n",
        "plt.title('Original and smaller model')\n",
        "plt.xlabel('Epochs')\n",
        "plt.ylabel('Validation loss')\n",
        "plt.legend()\n",
        "\n",
        "plt.show()"
      ],
      "metadata": {
        "colab": {
          "base_uri": "https://localhost:8080/",
          "height": 472
        },
        "id": "CzdVdlBopZdu",
        "outputId": "53897d1f-71c6-42a4-b5b9-f5562217e5b1"
      },
      "execution_count": null,
      "outputs": [
        {
          "output_type": "display_data",
          "data": {
            "text/plain": [
              "<Figure size 640x480 with 1 Axes>"
            ],
            "image/png": "[encoded data removed]"
          },
          "metadata": {}
        }
      ]
    },
    {
      "cell_type": "code",
      "source": [],
      "metadata": {
        "id": "YAWMSDd0p1sN"
      },
      "execution_count": null,
      "outputs": []
    }
  ]
}