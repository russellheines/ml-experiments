{
  "nbformat": 4,
  "nbformat_minor": 0,
  "metadata": {
    "colab": {
      "provenance": [],
      "authorship_tag": "ABX9TyMbHIRmZPFjKIjwT8DisTgu",
      "include_colab_link": true
    },
    "kernelspec": {
      "name": "python3",
      "display_name": "Python 3"
    },
    "language_info": {
      "name": "python"
    }
  },
  "cells": [
    {
      "cell_type": "markdown",
      "metadata": {
        "id": "view-in-github",
        "colab_type": "text"
      },
      "source": [
        "<a href=\"https://colab.research.google.com/github/russellheines/ml-experiments/blob/main/Chapter6.ipynb\" target=\"_parent\"><img src=\"https://colab.research.google.com/assets/colab-badge.svg\" alt=\"Open In Colab\"/></a>"
      ]
    },
    {
      "cell_type": "markdown",
      "source": [
        "6.1 Word-level one-hot encoding (toy example)"
      ],
      "metadata": {
        "id": "e_xSREWkHPN2"
      }
    },
    {
      "cell_type": "code",
      "execution_count": 3,
      "metadata": {
        "id": "ZJ-eGmEEGqEM"
      },
      "outputs": [],
      "source": [
        "import numpy as np\n",
        "\n",
        "samples = ['The cat sat on the mat.', 'The dog ate my homework']\n",
        "\n",
        "token_index = {}\n",
        "for sample in samples:\n",
        "  for word in sample.split():\n",
        "    if word not in token_index:\n",
        "      token_index[word] = len(token_index) + 1\n",
        "\n",
        "max_length = 10\n",
        "\n",
        "results = np.zeros(shape=(len(samples),\n",
        "                          max_length,\n",
        "                          max(token_index.values()) + 1))\n",
        "for i, sample in enumerate(samples):\n",
        "  for j, word in list(enumerate(sample.split()))[:max_length]:\n",
        "    index = token_index.get(word)\n",
        "    results[i, j, index] = 1"
      ]
    },
    {
      "cell_type": "markdown",
      "source": [
        "6.3 Using Keras for word-level one-hot encoding"
      ],
      "metadata": {
        "id": "iD-7pHyYHMTG"
      }
    },
    {
      "cell_type": "code",
      "source": [
        "from keras.preprocessing.text import Tokenizer\n",
        "samples = ['The cat sat on the mat.', 'The dog ate my homework']\n",
        "\n",
        "tokenizer = Tokenizer(num_words=1000)\n",
        "tokenizer.fit_on_texts(samples)\n",
        "\n",
        "sequences = tokenizer.texts_to_sequences(samples)\n",
        "\n",
        "one_hot_results = tokenizer.texts_to_matrix(samples, mode='binary')\n",
        "\n",
        "word_index = tokenizer.word_index\n",
        "print('Found %s unique tokens.' % len(word_index))"
      ],
      "metadata": {
        "colab": {
          "base_uri": "https://localhost:8080/"
        },
        "id": "FmgUMkIwGyaT",
        "outputId": "092835db-639b-4519-fc87-b954ceeddafa"
      },
      "execution_count": 4,
      "outputs": [
        {
          "output_type": "stream",
          "name": "stdout",
          "text": [
            "Found 9 unique tokens.\n"
          ]
        }
      ]
    },
    {
      "cell_type": "markdown",
      "source": [
        "6.5 Instantiating an Embedding layer"
      ],
      "metadata": {
        "id": "HifTUOchJJ1p"
      }
    },
    {
      "cell_type": "code",
      "source": [
        "from keras.layers import Embedding\n",
        "\n",
        "embedding_layer = Embedding(1000, 64)"
      ],
      "metadata": {
        "id": "XMeCgpUHHOam"
      },
      "execution_count": 5,
      "outputs": []
    },
    {
      "cell_type": "markdown",
      "source": [
        "6.6 Loading the IMDB data for use with an Embedding layer"
      ],
      "metadata": {
        "id": "sheBcOJPJKrB"
      }
    },
    {
      "cell_type": "code",
      "source": [
        "from keras.datasets import imdb\n",
        "from keras import preprocessing\n",
        "\n",
        "max_features = 10000\n",
        "maxlen = 20\n",
        "\n",
        "(x_train, y_train), (x_test, y_test) = imdb.load_data(num_words=max_features)\n",
        "\n",
        "x_train = preprocessing.sequence.pad_sequences(x_train, maxlen=maxlen)\n",
        "x_test = preprocessing.sequence.pad_sequences(x_test, maxlen=maxlen)"
      ],
      "metadata": {
        "colab": {
          "base_uri": "https://localhost:8080/"
        },
        "id": "pc-WJUAIHP60",
        "outputId": "acaebf98-e9d9-4c06-f5ef-e6e60ad69cf1"
      },
      "execution_count": 6,
      "outputs": [
        {
          "output_type": "stream",
          "name": "stdout",
          "text": [
            "Downloading data from https://storage.googleapis.com/tensorflow/tf-keras-datasets/imdb.npz\n",
            "17464789/17464789 [==============================] - 0s 0us/step\n"
          ]
        }
      ]
    },
    {
      "cell_type": "markdown",
      "source": [
        "6.7 Using an Embedding layer and classifier on the IMDB data"
      ],
      "metadata": {
        "id": "jlVyeyyfKKLn"
      }
    },
    {
      "cell_type": "code",
      "source": [
        "from keras.models import Sequential\n",
        "from keras.layers import Flatten, Dense\n",
        "\n",
        "model = Sequential()\n",
        "model.add(Embedding(10000, 8, input_length=maxlen))\n",
        "\n",
        "model.add(Flatten())\n",
        "\n",
        "model.add(Dense(1, activation='sigmoid'))\n",
        "model.compile(optimizer='rmsprop', loss='binary_crossentropy', metrics=['acc'])\n",
        "model.summary()\n",
        "\n",
        "history = model.fit(x_train, y_train,\n",
        "                    epochs=10,\n",
        "                    batch_size=32,\n",
        "                    validation_split=0.2)"
      ],
      "metadata": {
        "colab": {
          "base_uri": "https://localhost:8080/"
        },
        "id": "Q5MdE4F0KFMn",
        "outputId": "c03edb26-d0a4-49b9-98c5-b47d5a89b53e"
      },
      "execution_count": 7,
      "outputs": [
        {
          "output_type": "stream",
          "name": "stdout",
          "text": [
            "Model: \"sequential\"\n",
            "_________________________________________________________________\n",
            " Layer (type)                Output Shape              Param #   \n",
            "=================================================================\n",
            " embedding_1 (Embedding)     (None, 20, 8)             80000     \n",
            "                                                                 \n",
            " flatten (Flatten)           (None, 160)               0         \n",
            "                                                                 \n",
            " dense (Dense)               (None, 1)                 161       \n",
            "                                                                 \n",
            "=================================================================\n",
            "Total params: 80161 (313.13 KB)\n",
            "Trainable params: 80161 (313.13 KB)\n",
            "Non-trainable params: 0 (0.00 Byte)\n",
            "_________________________________________________________________\n",
            "Epoch 1/10\n",
            "625/625 [==============================] - 4s 4ms/step - loss: 0.6724 - acc: 0.6209 - val_loss: 0.6262 - val_acc: 0.6908\n",
            "Epoch 2/10\n",
            "625/625 [==============================] - 2s 3ms/step - loss: 0.5469 - acc: 0.7492 - val_loss: 0.5300 - val_acc: 0.7296\n",
            "Epoch 3/10\n",
            "625/625 [==============================] - 2s 3ms/step - loss: 0.4648 - acc: 0.7839 - val_loss: 0.5050 - val_acc: 0.7444\n",
            "Epoch 4/10\n",
            "625/625 [==============================] - 2s 3ms/step - loss: 0.4251 - acc: 0.8061 - val_loss: 0.4979 - val_acc: 0.7500\n",
            "Epoch 5/10\n",
            "625/625 [==============================] - 3s 4ms/step - loss: 0.3984 - acc: 0.8219 - val_loss: 0.4983 - val_acc: 0.7534\n",
            "Epoch 6/10\n",
            "625/625 [==============================] - 4s 6ms/step - loss: 0.3768 - acc: 0.8339 - val_loss: 0.5005 - val_acc: 0.7534\n",
            "Epoch 7/10\n",
            "625/625 [==============================] - 4s 6ms/step - loss: 0.3569 - acc: 0.8460 - val_loss: 0.5058 - val_acc: 0.7538\n",
            "Epoch 8/10\n",
            "625/625 [==============================] - 2s 3ms/step - loss: 0.3389 - acc: 0.8557 - val_loss: 0.5129 - val_acc: 0.7554\n",
            "Epoch 9/10\n",
            "625/625 [==============================] - 2s 3ms/step - loss: 0.3209 - acc: 0.8654 - val_loss: 0.5193 - val_acc: 0.7536\n",
            "Epoch 10/10\n",
            "625/625 [==============================] - 2s 3ms/step - loss: 0.3038 - acc: 0.8770 - val_loss: 0.5278 - val_acc: 0.7524\n"
          ]
        }
      ]
    },
    {
      "cell_type": "code",
      "source": [
        "test_loss, test_acc = model.evaluate(x_test, y_test)\n",
        "test_acc"
      ],
      "metadata": {
        "colab": {
          "base_uri": "https://localhost:8080/"
        },
        "id": "Nqliu6cRO2x-",
        "outputId": "f6df7e1e-ece7-489e-c13f-fce0b79a984d"
      },
      "execution_count": 9,
      "outputs": [
        {
          "output_type": "stream",
          "name": "stdout",
          "text": [
            "782/782 [==============================] - 2s 2ms/step - loss: 0.5179 - acc: 0.7555\n"
          ]
        },
        {
          "output_type": "execute_result",
          "data": {
            "text/plain": [
              "0.7554799914360046"
            ]
          },
          "metadata": {},
          "execution_count": 9
        }
      ]
    },
    {
      "cell_type": "markdown",
      "source": [
        "6.21 Numpy implementation of a simple RNN"
      ],
      "metadata": {
        "id": "nfMkpDNyUrm3"
      }
    },
    {
      "cell_type": "code",
      "source": [
        "import numpy as np\n",
        "\n",
        "timesteps = 100\n",
        "input_features = 32\n",
        "output_features = 64\n",
        "\n",
        "inputs = np.random.random((timesteps, input_features))\n",
        "\n",
        "state_t = np.zeros((output_features,))\n",
        "\n",
        "W = np.random.random((output_features, input_features))\n",
        "U = np.random.random((output_features, output_features))\n",
        "b = np.random.random((output_features,))\n",
        "\n",
        "successive_outputs = []\n",
        "for input_t in inputs:\n",
        "  output_t = np.tanh(np.dot(W, input_t) + np.dot(U, state_t) + b)\n",
        "\n",
        "  successive_outputs.append(output_t)\n",
        "\n",
        "  state_t = output_t\n",
        "\n",
        "final_output_sequence = np.concatenate(successive_outputs, axis=0)"
      ],
      "metadata": {
        "id": "FnDUlVbhPA0L"
      },
      "execution_count": 10,
      "outputs": []
    },
    {
      "cell_type": "markdown",
      "source": [
        "6.22 Preparing the IMDB data"
      ],
      "metadata": {
        "id": "0OCRm8ySUshV"
      }
    },
    {
      "cell_type": "code",
      "source": [
        "from keras.datasets import imdb\n",
        "from keras.preprocessing import sequence\n",
        "\n",
        "max_features = 10000\n",
        "maxlen = 500\n",
        "batch_size = 32\n",
        "\n",
        "print('Loading data...')\n",
        "(input_train, y_train), (input_test, y_test) = imdb.load_data(num_words=max_features)\n",
        "print(len(input_train), 'train sequences')\n",
        "print(len(input_test), 'test sequences')\n",
        "\n",
        "print('Pad sequences (samples x time)')\n",
        "input_train = sequence.pad_sequences(input_train, maxlen=maxlen)\n",
        "input_test = sequence.pad_sequences(input_test, maxlen=maxlen)\n",
        "print('input_train shape:', input_train.shape)\n",
        "print('input_test shape:', input_test.shape)"
      ],
      "metadata": {
        "colab": {
          "base_uri": "https://localhost:8080/"
        },
        "id": "hKjkpraRWGkJ",
        "outputId": "e6600dba-315e-4873-ffe5-f9de44d1ac39"
      },
      "execution_count": 13,
      "outputs": [
        {
          "output_type": "stream",
          "name": "stdout",
          "text": [
            "Loading data...\n",
            "25000 train sequences\n",
            "25000 test sequences\n",
            "Pad sequences (samples x time)\n",
            "input_train shape: (25000, 500)\n",
            "input_test shape: (25000, 500)\n"
          ]
        }
      ]
    },
    {
      "cell_type": "markdown",
      "source": [
        "6.23 Training the model with Embedding and SimpleRNN layers"
      ],
      "metadata": {
        "id": "S814s94uUsw_"
      }
    },
    {
      "cell_type": "code",
      "source": [
        "from keras.layers import SimpleRNN\n",
        "from keras.layers import Dense\n",
        "\n",
        "model = Sequential()\n",
        "model.add(Embedding(max_features, 32))\n",
        "model.add(SimpleRNN(32))\n",
        "model.add(Dense(1, activation='sigmoid'))\n",
        "\n",
        "model.compile(optimizer='rmsprop', loss='binary_crossentropy', metrics=['acc'])\n",
        "history = model.fit(input_train, y_train,\n",
        "                    epochs=10,\n",
        "                    batch_size=128,\n",
        "                    validation_split=0.2)"
      ],
      "metadata": {
        "colab": {
          "base_uri": "https://localhost:8080/"
        },
        "id": "4rXbqE03XUUz",
        "outputId": "01efb87c-1a97-4a44-f9c8-b926294db92e"
      },
      "execution_count": 14,
      "outputs": [
        {
          "output_type": "stream",
          "name": "stdout",
          "text": [
            "Epoch 1/10\n",
            "157/157 [==============================] - 35s 203ms/step - loss: 0.6325 - acc: 0.6203 - val_loss: 0.5262 - val_acc: 0.7592\n",
            "Epoch 2/10\n",
            "157/157 [==============================] - 45s 285ms/step - loss: 0.4038 - acc: 0.8278 - val_loss: 0.3945 - val_acc: 0.8270\n",
            "Epoch 3/10\n",
            "157/157 [==============================] - 51s 328ms/step - loss: 0.3143 - acc: 0.8734 - val_loss: 0.3619 - val_acc: 0.8456\n",
            "Epoch 4/10\n",
            "157/157 [==============================] - 46s 291ms/step - loss: 0.2564 - acc: 0.8985 - val_loss: 0.3578 - val_acc: 0.8450\n",
            "Epoch 5/10\n",
            "157/157 [==============================] - 43s 276ms/step - loss: 0.2300 - acc: 0.9124 - val_loss: 0.4638 - val_acc: 0.8290\n",
            "Epoch 6/10\n",
            "157/157 [==============================] - 42s 269ms/step - loss: 0.1709 - acc: 0.9371 - val_loss: 0.4215 - val_acc: 0.8640\n",
            "Epoch 7/10\n",
            "157/157 [==============================] - 29s 184ms/step - loss: 0.1411 - acc: 0.9494 - val_loss: 0.4735 - val_acc: 0.8418\n",
            "Epoch 8/10\n",
            "157/157 [==============================] - 30s 191ms/step - loss: 0.1060 - acc: 0.9652 - val_loss: 0.5519 - val_acc: 0.7904\n",
            "Epoch 9/10\n",
            "157/157 [==============================] - 29s 186ms/step - loss: 0.0696 - acc: 0.9789 - val_loss: 0.4922 - val_acc: 0.8470\n",
            "Epoch 10/10\n",
            "157/157 [==============================] - 29s 184ms/step - loss: 0.0456 - acc: 0.9858 - val_loss: 0.5426 - val_acc: 0.8452\n"
          ]
        }
      ]
    },
    {
      "cell_type": "markdown",
      "source": [
        "6.24 Plotting results"
      ],
      "metadata": {
        "id": "NrOBvQbEUtys"
      }
    },
    {
      "cell_type": "code",
      "source": [
        "import matplotlib.pyplot as plt\n",
        "\n",
        "acc = history.history['acc']\n",
        "val_acc = history.history['val_acc']\n",
        "loss = history.history['loss']\n",
        "val_loss = history.history['val_loss']\n",
        "\n",
        "epochs = range(1, len(acc) + 1)\n",
        "\n",
        "plt.plot(epochs, acc, 'bo', label='Training acc')\n",
        "plt.plot(epochs, val_acc, 'b', label='Validation acc')\n",
        "plt.title('Training and validation accuracy')\n",
        "plt.legend()\n",
        "\n",
        "plt.figure()\n",
        "\n",
        "plt.plot(epochs, loss, 'bo', label='Training loss')\n",
        "plt.plot(epochs, val_loss, 'b', label='Validation loss')\n",
        "plt.title('Training and validation loss')\n",
        "plt.legend()\n",
        "\n",
        "plt.show()"
      ],
      "metadata": {
        "colab": {
          "base_uri": "https://localhost:8080/",
          "height": 887
        },
        "id": "4SXHr0QVXVTG",
        "outputId": "2ff8305c-3b21-4aa5-8aa0-6b4803c7a488"
      },
      "execution_count": 16,
      "outputs": [
        {
          "output_type": "display_data",
          "data": {
            "text/plain": [
              "<Figure size 640x480 with 1 Axes>"
            ],
            "image/png": "[encoded data removed]"
          },
          "metadata": {}
        },
        {
          "output_type": "display_data",
          "data": {
            "text/plain": [
              "<Figure size 640x480 with 1 Axes>"
            ],
            "image/png": "[encoded data removed]"
          },
          "metadata": {}
        }
      ]
    },
    {
      "cell_type": "markdown",
      "source": [
        "6.27 Using the LSTM later in Keras"
      ],
      "metadata": {
        "id": "PBZyK7-Cd9xQ"
      }
    },
    {
      "cell_type": "code",
      "source": [
        "from keras.layers import LSTM\n",
        "\n",
        "model = Sequential()\n",
        "model.add(Embedding(max_features, 32))\n",
        "model.add(LSTM(32))\n",
        "model.add(Dense(1, activation='sigmoid'))\n",
        "\n",
        "model.compile(optimizer='rmsprop', loss='binary_crossentropy', metrics=['acc'])\n",
        "history = model.fit(input_train, y_train,\n",
        "                    epochs=10,\n",
        "                    batch_size=128,\n",
        "                    validation_split=0.2)"
      ],
      "metadata": {
        "colab": {
          "base_uri": "https://localhost:8080/"
        },
        "id": "CMVXiq-_aIIM",
        "outputId": "f911fd6d-e0c6-46cc-bca4-74923f6d18ca"
      },
      "execution_count": 17,
      "outputs": [
        {
          "output_type": "stream",
          "name": "stdout",
          "text": [
            "Epoch 1/10\n",
            "157/157 [==============================] - 68s 405ms/step - loss: 0.5977 - acc: 0.6655 - val_loss: 0.4474 - val_acc: 0.8202\n",
            "Epoch 2/10\n",
            "157/157 [==============================] - 66s 419ms/step - loss: 0.3568 - acc: 0.8536 - val_loss: 0.3357 - val_acc: 0.8718\n",
            "Epoch 3/10\n",
            "157/157 [==============================] - 61s 388ms/step - loss: 0.2698 - acc: 0.8956 - val_loss: 0.2992 - val_acc: 0.8844\n",
            "Epoch 4/10\n",
            "157/157 [==============================] - 61s 384ms/step - loss: 0.2259 - acc: 0.9137 - val_loss: 0.2824 - val_acc: 0.8854\n",
            "Epoch 5/10\n",
            "157/157 [==============================] - 60s 381ms/step - loss: 0.1975 - acc: 0.9283 - val_loss: 0.3860 - val_acc: 0.8702\n",
            "Epoch 6/10\n",
            "157/157 [==============================] - 61s 391ms/step - loss: 0.1760 - acc: 0.9359 - val_loss: 0.3452 - val_acc: 0.8596\n",
            "Epoch 7/10\n",
            "157/157 [==============================] - 60s 381ms/step - loss: 0.1619 - acc: 0.9437 - val_loss: 0.3259 - val_acc: 0.8718\n",
            "Epoch 8/10\n",
            "157/157 [==============================] - 60s 382ms/step - loss: 0.1454 - acc: 0.9484 - val_loss: 0.5861 - val_acc: 0.8400\n",
            "Epoch 9/10\n",
            "157/157 [==============================] - 62s 392ms/step - loss: 0.1334 - acc: 0.9538 - val_loss: 0.3432 - val_acc: 0.8866\n",
            "Epoch 10/10\n",
            "157/157 [==============================] - 67s 425ms/step - loss: 0.1248 - acc: 0.9575 - val_loss: 0.3521 - val_acc: 0.8860\n"
          ]
        }
      ]
    },
    {
      "cell_type": "code",
      "source": [],
      "metadata": {
        "id": "Fh2-AlxFh5lK"
      },
      "execution_count": null,
      "outputs": []
    }
  ]
}